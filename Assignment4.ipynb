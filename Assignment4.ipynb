{
 "cells": [
  {
   "cell_type": "code",
   "execution_count": 2,
   "id": "1d58d496",
   "metadata": {},
   "outputs": [
    {
     "name": "stdout",
     "output_type": "stream",
     "text": [
      "Local Minimum: -2.999995096014269\n",
      "Function Value at Local Minimum: 2.4049076048192486e-11\n"
     ]
    }
   ],
   "source": [
    "# Implement Gradient Descent Algorithm to find the local minima of a function.\n",
    "# For example, find the local minima of the function y=(x+3)² starting from the point x=2.\n",
    "\n",
    "import numpy as np\n",
    "import matplotlib.pyplot as plt\n",
    "# Define the function y = (x + 3)²\n",
    "def function_to_minimize(x):\n",
    "    return (x + 3)**2\n",
    "\n",
    "# Define the derivative of the function\n",
    "def derivative(x):\n",
    "    return 2 * (x + 3)\n",
    "\n",
    "# Gradient Descent parameters\n",
    "learning_rate = 0.1\n",
    "max_iterations = 1000\n",
    "tolerance = 1e-6\n",
    "\n",
    "# Initial point\n",
    "x = 2\n",
    "\n",
    "# Gradient Descent algorithm\n",
    "for iteration in range(max_iterations):\n",
    "    gradient = derivative(x)\n",
    "    x_new = x - learning_rate * gradient\n",
    "    \n",
    "    # Check for convergence\n",
    "    if abs(x_new - x) < tolerance:\n",
    "        break\n",
    "    \n",
    "    x = x_new\n",
    "\n",
    "# Print the local minimum\n",
    "print(\"Local Minimum:\", x)\n",
    "\n",
    "# Evaluate the function at the local minimum\n",
    "min_value = function_to_minimize(x)\n",
    "print(\"Function Value at Local Minimum:\", min_value)\n"
   ]
  },
  {
   "cell_type": "code",
   "execution_count": null,
   "id": "4655bae4",
   "metadata": {},
   "outputs": [],
   "source": []
  }
 ],
 "metadata": {
  "kernelspec": {
   "display_name": "Python 3 (ipykernel)",
   "language": "python",
   "name": "python3"
  },
  "language_info": {
   "codemirror_mode": {
    "name": "ipython",
    "version": 3
   },
   "file_extension": ".py",
   "mimetype": "text/x-python",
   "name": "python",
   "nbconvert_exporter": "python",
   "pygments_lexer": "ipython3",
   "version": "3.10.9"
  }
 },
 "nbformat": 4,
 "nbformat_minor": 5
}
