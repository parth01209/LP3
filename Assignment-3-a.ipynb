{
 "cells": [
  {
   "cell_type": "code",
   "execution_count": 1,
   "id": "18d48fcd",
   "metadata": {},
   "outputs": [],
   "source": [
    "# Given a bank customer, build a neural network-based classifier that can determine whether \n",
    "# they will leave or not in the next 6 months.\n",
    "# Dataset Description: The case study is from an open-source dataset from Kaggle.\n",
    "# The dataset contains 10,000 sample points with 14 distinct features such as\n",
    "# CustomerId, CreditScore, Geography, Gender, Age, Tenure, Balance, etc.\n",
    "# Link to the Kaggle project:\n",
    "# https://www.kaggle.com/barelydedicated/bank-customer-churn-modeling\n",
    "# Perform following steps:\n",
    "# 1. Read the dataset.\n",
    "# 2. Distinguish the feature and target set and divide the data set into training and test sets.\n",
    "# 3. Normalize the train and test data. \n",
    "# 4. Initialize and build the model. Identify the points of improvement and implement the same. \n",
    "# 5. Print the accuracy score and confusion matrix (5 points).\n",
    "\n"
   ]
  },
  {
   "cell_type": "code",
   "execution_count": 2,
   "id": "d1893084",
   "metadata": {},
   "outputs": [],
   "source": [
    "import pandas as pd\n",
    "import numpy as np\n",
    "from sklearn.model_selection import train_test_split\n",
    "from sklearn.preprocessing import StandardScaler, OneHotEncoder\n",
    "import tensorflow as tf\n",
    "from tensorflow import keras\n",
    "from sklearn.metrics import accuracy_score, confusion_matrix"
   ]
  },
  {
   "cell_type": "code",
   "execution_count": 3,
   "id": "ad55a79b",
   "metadata": {},
   "outputs": [],
   "source": [
    "data = pd.read_csv(\"churn_Modelling.csv\")\n"
   ]
  },
  {
   "cell_type": "code",
   "execution_count": 4,
   "id": "720b8d96",
   "metadata": {},
   "outputs": [],
   "source": [
    "X = data.drop(columns=['CustomerId', 'Surname', 'Exited'])\n",
    "y = data['Exited']"
   ]
  },
  {
   "cell_type": "code",
   "execution_count": 5,
   "id": "56cd09a7",
   "metadata": {},
   "outputs": [],
   "source": [
    "numeric_cols = data.select_dtypes(include=[np.number]).columns\n",
    "categorical_cols = [col for col in data.columns if col not in numeric_cols]"
   ]
  },
  {
   "cell_type": "code",
   "execution_count": 6,
   "id": "6592b3d1",
   "metadata": {},
   "outputs": [
    {
     "name": "stderr",
     "output_type": "stream",
     "text": [
      "C:\\Users\\Parth\\anaconda3\\lib\\site-packages\\sklearn\\preprocessing\\_encoders.py:828: FutureWarning: `sparse` was renamed to `sparse_output` in version 1.2 and will be removed in 1.4. `sparse_output` is ignored unless you leave `sparse` to its default value.\n",
      "  warnings.warn(\n"
     ]
    }
   ],
   "source": [
    "encoder = OneHotEncoder(sparse=False)\n",
    "encoded_categorical_cols = encoder.fit_transform(data[categorical_cols])"
   ]
  },
  {
   "cell_type": "code",
   "execution_count": 7,
   "id": "e13fd36c",
   "metadata": {},
   "outputs": [],
   "source": [
    "X = np.hstack((data[numeric_cols], encoded_categorical_cols))\n",
    "y = data['Exited']"
   ]
  },
  {
   "cell_type": "code",
   "execution_count": 8,
   "id": "48cbd808",
   "metadata": {},
   "outputs": [],
   "source": [
    "X_train, X_test, y_train, y_test = train_test_split(X, y, test_size=0.2, random_state=42)"
   ]
  },
  {
   "cell_type": "code",
   "execution_count": 9,
   "id": "d7b90f51",
   "metadata": {},
   "outputs": [],
   "source": [
    "scaler = StandardScaler()\n",
    "X_train = scaler.fit_transform(X_train)\n",
    "X_test = scaler.transform(X_test)"
   ]
  },
  {
   "cell_type": "code",
   "execution_count": 10,
   "id": "1b594176",
   "metadata": {},
   "outputs": [],
   "source": [
    "model = keras.Sequential([\n",
    "    keras.layers.Dense(64, activation='relu', input_dim=X_train.shape[1]),\n",
    "    keras.layers.Dense(32, activation='relu'),\n",
    "    keras.layers.Dense(1, activation='sigmoid')\n",
    "])"
   ]
  },
  {
   "cell_type": "code",
   "execution_count": 11,
   "id": "1388bb42",
   "metadata": {},
   "outputs": [
    {
     "name": "stdout",
     "output_type": "stream",
     "text": [
      "Epoch 1/5\n",
      "250/250 [==============================] - 4s 8ms/step - loss: 0.4412 - accuracy: 0.8091\n",
      "Epoch 2/5\n",
      "250/250 [==============================] - 2s 8ms/step - loss: 0.1017 - accuracy: 0.9620\n",
      "Epoch 3/5\n",
      "250/250 [==============================] - 2s 8ms/step - loss: 0.0194 - accuracy: 0.9933\n",
      "Epoch 4/5\n",
      "250/250 [==============================] - 2s 8ms/step - loss: 0.0089 - accuracy: 0.9971\n",
      "Epoch 5/5\n",
      "250/250 [==============================] - 2s 8ms/step - loss: 0.0050 - accuracy: 0.9979\n"
     ]
    },
    {
     "data": {
      "text/plain": [
       "<keras.src.callbacks.History at 0x27563797f10>"
      ]
     },
     "execution_count": 11,
     "metadata": {},
     "output_type": "execute_result"
    }
   ],
   "source": [
    "model.compile(loss='binary_crossentropy', optimizer='adam', metrics=['accuracy'])\n",
    "model.fit(X_train, y_train, epochs=5, batch_size=32)"
   ]
  },
  {
   "cell_type": "code",
   "execution_count": 13,
   "id": "80f2084a",
   "metadata": {},
   "outputs": [
    {
     "name": "stdout",
     "output_type": "stream",
     "text": [
      "63/63 [==============================] - 0s 5ms/step\n"
     ]
    }
   ],
   "source": [
    "y_pred = (model.predict(X_test) > 0.5)\n",
    "accuracy = accuracy_score(y_test, y_pred)\n",
    "cm1 = confusion_matrix(y_test, y_pred)"
   ]
  },
  {
   "cell_type": "code",
   "execution_count": 14,
   "id": "174073c5",
   "metadata": {},
   "outputs": [
    {
     "name": "stdout",
     "output_type": "stream",
     "text": [
      "95.1 % of testing data was classified correctly\n",
      "Confusion Matrix:\n",
      "[[1579   28]\n",
      " [  70  323]]\n"
     ]
    }
   ],
   "source": [
    "accuracy_model1 = ((cm1[0][0]+cm1[1][1])*100)/(cm1[0][0]+cm1[1][1]+cm1[0][1]+cm1[1][0])\n",
    "print (accuracy_model1, '% of testing data was classified correctly')\n",
    "print(\"Confusion Matrix:\")\n",
    "print(cm1)"
   ]
  },
  {
   "cell_type": "code",
   "execution_count": null,
   "id": "bf2110dd",
   "metadata": {},
   "outputs": [],
   "source": []
  }
 ],
 "metadata": {
  "kernelspec": {
   "display_name": "Python 3 (ipykernel)",
   "language": "python",
   "name": "python3"
  },
  "language_info": {
   "codemirror_mode": {
    "name": "ipython",
    "version": 3
   },
   "file_extension": ".py",
   "mimetype": "text/x-python",
   "name": "python",
   "nbconvert_exporter": "python",
   "pygments_lexer": "ipython3",
   "version": "3.10.9"
  }
 },
 "nbformat": 4,
 "nbformat_minor": 5
}
